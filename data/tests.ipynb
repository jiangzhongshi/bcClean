{
 "cells": [
  {
   "cell_type": "code",
   "execution_count": 23,
   "metadata": {},
   "outputs": [
    {
     "data": {
      "application/vnd.jupyter.widget-view+json": {
       "model_id": "7c99e2ab43224672afaa6e8fdafd98dc",
       "version_major": 2,
       "version_minor": 0
      },
      "text/plain": [
       "Renderer(camera=PerspectiveCamera(children=(DirectionalLight(color='white', intensity=0.6, position=(12.499874…"
      ]
     },
     "metadata": {},
     "output_type": "display_data"
    },
    {
     "data": {
      "text/plain": [
       "True"
      ]
     },
     "execution_count": 23,
     "metadata": {},
     "output_type": "execute_result"
    }
   ],
   "source": [
    "import igl\n",
    "import pybcclean as pbc\n",
    "import polyfempy as pf\n",
    "import wildmeshing as wm\n",
    "import meshplot as mp\n",
    "import os\n",
    "import numpy as np\n",
    "from scipy.spatial import KDTree\n",
    "import yaml\n",
    "def barycenters(v, f):\n",
    "    s = np.zeros((len(f),3),dtype='float64')\n",
    "    for i, r in enumerate(s):\n",
    "        s[i] = (v[f[i][0]]+v[f[i][1]]+v[f[i][2]])/3\n",
    "    return s\n",
    "\n",
    "def parse_feat(in_feat_file_name, out_file_body=\"feat\"):\n",
    "    parent_dir = os.path.dirname(in_feat_file_name)\n",
    "    out_file_name = out_file_body+\".dmat\"\n",
    "    out_file_rel_dir = os.path.join(parent_dir, out_file_name)\n",
    "        # return the file path if the output file already exists\n",
    "    with open(in_feat_file_name, 'r') as stream:\n",
    "        try:\n",
    "            yaml_dict=yaml.safe_load(stream)\n",
    "        except yaml.YAMLError as exc:\n",
    "            print(exc)\n",
    "    face_label_dict = {}\n",
    "    count =0\n",
    "    for label, surface in enumerate(yaml_dict[\"surfaces\"]):\n",
    "        for face_id in surface[\"face_indices\"]:\n",
    "            face_label_dict[face_id] = label\n",
    "            count +=1\n",
    "\n",
    "    with open(out_file_rel_dir, 'w') as f:\n",
    "        f.write(\"1\"+\" \"+str(count)+\"\\n\")\n",
    "        for item in sorted(face_label_dict.keys()):\n",
    "            f.write(\"%s\\n\" % face_label_dict[item])\n",
    "    return out_file_rel_dir\n",
    "\n",
    "def separate_surfaces(v, f, fl):\n",
    "    \"\"\"\n",
    "    :param v vertices\n",
    "    :param f faces\n",
    "    :param fl face labels\n",
    "    perturb the surfaces according to the face labels\n",
    "    :return v_dict, f_dict\n",
    "    \"\"\"\n",
    "    v_dict = {}\n",
    "    f_dict_temp = {}\n",
    "    f_dict = {}\n",
    "    count_dict = {}\n",
    "    for fidx, lb in enumerate(fl):\n",
    "        if lb not in f_dict_temp:\n",
    "            f_dict_temp[lb] = np.zeros_like(f)\n",
    "            f_dict_temp[lb][0,:]=f[fidx,:].copy()\n",
    "            count_dict[lb] = 1\n",
    "        else:\n",
    "            f_dict_temp[lb][count_dict[lb],:]=f[fidx,:].copy()\n",
    "            count_dict[lb] += 1\n",
    "    for lb in f_dict_temp:\n",
    "        f_dict_temp[lb] = f_dict_temp[lb][0:count_dict[lb],:]\n",
    "        v_dict[lb], f_dict[lb], _, _= igl.remove_unreferenced(v,f_dict_temp[lb])\n",
    "    return v_dict, f_dict\n",
    "\n",
    "def perturb_and_union(v_dict, f_dict, eps):\n",
    "    \"\"\"\n",
    "    :eps float to control the perturbation\n",
    "    return new_v, new_f, new_fl\n",
    "    \"\"\"\n",
    "    nv = 0 \n",
    "    nf = 0\n",
    "    for lb in f_dict:\n",
    "        nv += len(v_dict[lb])\n",
    "        nf += len(f_dict[lb])\n",
    "    new_v = np.zeros((nv,3),dtype=float)\n",
    "    new_f = np.zeros((nf,3), dtype=int)\n",
    "    new_fl = np.zeros((nf,1), dtype=int)\n",
    "    count_v = 0\n",
    "    count_f =0\n",
    "    for lb in f_dict:\n",
    "        f_temp = f_dict[lb].copy()\n",
    "        v_temp = v_dict[lb].copy()\n",
    "        new_v[count_v:count_v+len(v_temp)]= v_temp + np.ones_like(v_temp) * np.random.uniform(-eps, eps)\n",
    "        f_temp += np.ones_like(f_temp) * count_v\n",
    "        count_v += len(v_temp)\n",
    "        new_f[count_f:count_f+len(f_temp)]=f_temp\n",
    "        new_fl[count_f:count_f+len(f_temp)]= np.ones((len(f_temp),1), dtype=int) *lb\n",
    "        count_f += len(f_temp)\n",
    "    return new_v, new_f, new_fl\n",
    "\n",
    "def extract_surface(p, t):\n",
    "    f_temp = igl.boundary_facets(t)\n",
    "    v_s, f_s, _, _ = igl.remove_unreferenced(p, f_temp)\n",
    "    return v_s, f_s\n",
    "\n",
    "file_root = os.path.dirname(\"14/00000022_ad34a3f60c4a4caa99646600_trimesh_002.obj\")\n",
    "wm.tetrahedralize(\"14/00000022_ad34a3f60c4a4caa99646600_trimesh_002.obj\", file_root+\"/\"+\"bench.mesh\", stop_quality=7)\n",
    "fl_bench_file = parse_feat(\"14/00000022_ad34a3f60c4a4caa99646600_features_002.yml\")\n",
    "fl_bench = igl.read_dmat(fl_bench_file)\n",
    "v_bench, f_bench = igl.read_triangle_mesh(\"14/00000022_ad34a3f60c4a4caa99646600_trimesh_002.obj\")\n",
    "v_ini, f_ini=igl.read_triangle_mesh(file_root+\"/\"+\"bench.mesh__sf.obj\")\n",
    "prob_mat_ini, fl_ini_temp =pbc.project_face_labels(v_bench,f_bench.astype('int32'), fl_bench.astype('int32'),v_ini,f_ini.astype('int32'))\n",
    "fl_ini = pbc.refine_labels(v_ini, f_ini.astype('int32'), prob_mat_ini, fl_ini_temp.astype('int32'),1)\n",
    "# mp.plot(v_ini, f_ini, fl_ini_temp[:,0])\n",
    "# mp.plot(v_ini, f_ini, fl_ini[:,0])\n",
    "eps = 0.001\n",
    "v_dict, f_dict =separate_surfaces(v_ini, f_ini, fl_ini[:,0])\n",
    "v_bad, f_bad, fl_bad = perturb_and_union(v_dict, f_dict, eps)\n",
    "mp.plot(v_bad, f_bad, fl_bad[:,0], shading={\"wireframe\":True})\n",
    "eps_file_name = file_root+\"/\"+str(eps)+\"pertb.obj\"\n",
    "igl.write_obj(eps_file_name, v_bad, f_bad)"
   ]
  },
  {
   "cell_type": "code",
   "execution_count": 24,
   "metadata": {},
   "outputs": [
    {
     "name": "stdout",
     "output_type": "stream",
     "text": [
      "(1674, 3) (839, 3)\n"
     ]
    },
    {
     "data": {
      "application/vnd.jupyter.widget-view+json": {
       "model_id": "0162ab6b62d34d8b8de38d683d45825d",
       "version_major": 2,
       "version_minor": 0
      },
      "text/plain": [
       "Renderer(camera=PerspectiveCamera(children=(DirectionalLight(color='white', intensity=0.6, position=(12.499874…"
      ]
     },
     "metadata": {},
     "output_type": "display_data"
    }
   ],
   "source": [
    "wm.tetrahedralize(eps_file_name, file_root+\"/\"+\"out.mesh\", stop_quality=7)\n",
    "v_good, f_good = igl.read_triangle_mesh(file_root+\"/\"+\"out.mesh__sf.obj\")\n",
    "print(f_good.shape, v_good.shape)\n",
    "mp.plot(v_good, f_good, shading={\"wireframe\":True})"
   ]
  },
  {
   "cell_type": "code",
   "execution_count": 25,
   "metadata": {},
   "outputs": [
    {
     "data": {
      "application/vnd.jupyter.widget-view+json": {
       "model_id": "220d0873d7f24b999db5fe80a10a300d",
       "version_major": 2,
       "version_minor": 0
      },
      "text/plain": [
       "Renderer(camera=PerspectiveCamera(children=(DirectionalLight(color='white', intensity=0.6, position=(12.499874…"
      ]
     },
     "metadata": {},
     "output_type": "display_data"
    },
    {
     "data": {
      "application/vnd.jupyter.widget-view+json": {
       "model_id": "f3bf54853bc3458eb9909a6f896c90fa",
       "version_major": 2,
       "version_minor": 0
      },
      "text/plain": [
       "Renderer(camera=PerspectiveCamera(children=(DirectionalLight(color='white', intensity=0.6, position=(12.499874…"
      ]
     },
     "metadata": {},
     "output_type": "display_data"
    }
   ],
   "source": [
    "prob_mat, fl_good_proj = pbc.project_face_labels(v_bad, f_bad.astype('int32'), fl_bad[:,0].astype('int32'), v_good, f_good.astype('int32'))\n",
    "fl_good_cut = pbc.refine_labels(v_good, f_good.astype('int32'), prob_mat, fl_good_proj.astype('int32'),1)\n",
    "mp.plot(v_good, f_good, fl_good_proj[:,0], shading={\"wireframe\": True})\n",
    "mp.plot(v_good, f_good, fl_good_cut[:,0], shading={\"wireframe\":True})"
   ]
  },
  {
   "cell_type": "code",
   "execution_count": 26,
   "metadata": {},
   "outputs": [
    {
     "name": "stdout",
     "output_type": "stream",
     "text": [
      "[2019-08-27 16:28:10.419] [polyfem] [info] Loading mesh...\n",
      "[2019-08-27 16:28:10.420] [geogram] [info] Loading file 14/bench.mesh...\n",
      "[2019-08-27 16:28:10.465] [geogram] [info] (FP64) nb_v:2838 nb_e:0 nb_f:1868 nb_b:0 tri:1 dim:3\n",
      "[2019-08-27 16:28:10.465] [geogram] [info]  nb_tets:13753\n",
      "[2019-08-27 16:28:10.465] [geogram] [info] Attributes on vertices: point[3]\n",
      "[2019-08-27 16:28:10.642] [polyfem] [info] mesh bb min [-1.77636e-15, -25, -1.11022e-16], max [25, 8.88178e-16, 25]\n",
      "[2019-08-27 16:28:10.642] [polyfem] [info]  took 0.222496s\n"
     ]
    },
    {
     "data": {
      "application/vnd.jupyter.widget-view+json": {
       "model_id": "0e4b16ae69384a2eb70b13726e192779",
       "version_major": 2,
       "version_minor": 0
      },
      "text/plain": [
       "Renderer(camera=PerspectiveCamera(children=(DirectionalLight(color='white', intensity=0.6, position=(12.499999…"
      ]
     },
     "metadata": {},
     "output_type": "display_data"
    },
    {
     "name": "stdout",
     "output_type": "stream",
     "text": [
      "[2019-08-27 16:28:11.071] [polyfem] [info] Loading mesh...\n",
      "[2019-08-27 16:28:11.071] [geogram] [info] Loading file 14/out.mesh...\n",
      "[2019-08-27 16:28:11.122] [geogram] [info] (FP64) nb_v:2619 nb_e:0 nb_f:1674 nb_b:0 tri:1 dim:3\n",
      "[2019-08-27 16:28:11.122] [geogram] [info]  nb_tets:12847\n",
      "[2019-08-27 16:28:11.122] [geogram] [info] Attributes on vertices: point[3]\n",
      "[2019-08-27 16:28:11.365] [polyfem] [info] mesh bb min [-0.000930923, -25.0009, -0.000930923], max [25.0007, 0.0180896, 25.0007]\n",
      "[2019-08-27 16:28:11.365] [polyfem] [info]  took 0.293819s\n"
     ]
    },
    {
     "data": {
      "application/vnd.jupyter.widget-view+json": {
       "model_id": "9d29e68722ac4500811f1078b0d086b2",
       "version_major": 2,
       "version_minor": 0
      },
      "text/plain": [
       "Renderer(camera=PerspectiveCamera(children=(DirectionalLight(color='white', intensity=0.6, position=(12.499874…"
      ]
     },
     "metadata": {},
     "output_type": "display_data"
    },
    {
     "name": "stdout",
     "output_type": "stream",
     "text": [
      "[2019-08-27 16:28:11.979] [polyfem] [info] Loading mesh...\n",
      "[2019-08-27 16:28:11.979] [geogram] [info] Loading file 14/out.mesh...\n",
      "[2019-08-27 16:28:12.026] [geogram] [info] (FP64) nb_v:2619 nb_e:0 nb_f:1674 nb_b:0 tri:1 dim:3\n",
      "[2019-08-27 16:28:12.026] [geogram] [info]  nb_tets:12847\n",
      "[2019-08-27 16:28:12.027] [geogram] [info] Attributes on vertices: point[3]\n",
      "[2019-08-27 16:28:12.250] [polyfem] [info] mesh bb min [-0.000930923, -25.0009, -0.000930923], max [25.0007, 0.0180896, 25.0007]\n",
      "[2019-08-27 16:28:12.250] [polyfem] [info]  took 0.27129s\n"
     ]
    },
    {
     "data": {
      "application/vnd.jupyter.widget-view+json": {
       "model_id": "9bc18fa3edfe44239d85f8be7f24e14c",
       "version_major": 2,
       "version_minor": 0
      },
      "text/plain": [
       "Renderer(camera=PerspectiveCamera(children=(DirectionalLight(color='white', intensity=0.6, position=(12.499874…"
      ]
     },
     "metadata": {},
     "output_type": "display_data"
    }
   ],
   "source": [
    "bary_centers = barycenters(v_good, f_good)\n",
    "kdt = KDTree(bary_centers)\n",
    "\n",
    "bary_centers_ini = barycenters(v_ini, f_ini)\n",
    "kdt_ini = KDTree(bary_centers_ini)\n",
    "\n",
    "def sideset_proj(p):\n",
    "    return fl_good_proj[kdt.query(p)[1]][0]+1\n",
    "def sideset_cut(p):\n",
    "    return fl_good_cut[kdt.query(p)[1]][0] + 1\n",
    "def sideset_ini(p):\n",
    "    return fl_ini[kdt_ini.query(p)[1]][0] + 1\n",
    "\n",
    "solver_ini = pf.Solver()\n",
    "solver_ini.load_mesh_from_path(file_root+\"/\"+\"bench.mesh\")\n",
    "solver_ini.set_boundary_side_set_from_bary(sideset_ini)\n",
    "p_ini, t_ini, s_ini = solver_ini.get_boundary_sidesets()\n",
    "mp.plot(p_ini, t_ini, s_ini, shading={\"wireframe\":True})\n",
    "\n",
    "solver_proj = pf.Solver()\n",
    "solver_proj.load_mesh_from_path(file_root+\"/\"+\"out.mesh\")\n",
    "solver_proj.set_boundary_side_set_from_bary(sideset_proj)\n",
    "p_proj, t_proj, s_proj = solver_proj.get_boundary_sidesets()\n",
    "mp.plot(p_proj, t_proj, s_proj, shading={\"wireframe\":True})\n",
    "\n",
    "solver_cut = pf.Solver()\n",
    "solver_cut.load_mesh_from_path(file_root+\"/\"+\"out.mesh\")\n",
    "solver_cut.set_boundary_side_set_from_bary(sideset_cut)\n",
    "p_cut, t_cut, s_cut = solver_cut.get_boundary_sidesets()\n",
    "mp.plot(p_cut, t_cut, s_cut, shading={\"wireframe\":True})\n"
   ]
  },
  {
   "cell_type": "code",
   "execution_count": 27,
   "metadata": {},
   "outputs": [
    {
     "name": "stdout",
     "output_type": "stream",
     "text": [
      "[2019-08-27 16:28:25.328] [polyfem] [info] simplex_count: \t12847\n",
      "[2019-08-27 16:28:25.328] [polyfem] [info] regular_count: \t0\n",
      "[2019-08-27 16:28:25.328] [polyfem] [info] regular_boundary_count: \t0\n",
      "[2019-08-27 16:28:25.328] [polyfem] [info] simple_singular_count: \t0\n",
      "[2019-08-27 16:28:25.328] [polyfem] [info] multi_singular_count: \t0\n",
      "[2019-08-27 16:28:25.328] [polyfem] [info] boundary_count: \t0\n",
      "[2019-08-27 16:28:25.328] [polyfem] [info] multi_singular_boundary_count: \t0\n",
      "[2019-08-27 16:28:25.328] [polyfem] [info] non_regular_count: \t0\n",
      "[2019-08-27 16:28:25.328] [polyfem] [info] non_regular_boundary_count: \t0\n",
      "[2019-08-27 16:28:25.328] [polyfem] [info] undefined_count: \t0\n",
      "[2019-08-27 16:28:25.328] [polyfem] [info] total count:\t 12847\n",
      "[2019-08-27 16:28:25.328] [polyfem] [info] Building isoparametric basis...\n",
      "[2019-08-27 16:28:25.401] [polyfem] [info] Computing polygonal basis...\n",
      "[2019-08-27 16:28:25.401] [polyfem] [info]  took 2.543e-05s\n",
      "[2019-08-27 16:28:25.403] [polyfem] [info] hmin: 0.959207\n",
      "[2019-08-27 16:28:25.403] [polyfem] [info] hmax: 5.13044\n",
      "[2019-08-27 16:28:25.403] [polyfem] [info] havg: 2.30492\n",
      "[2019-08-27 16:28:25.404] [polyfem] [info]  took 0.0729646s\n",
      "[2019-08-27 16:28:25.404] [polyfem] [info] flipped elements 0\n",
      "[2019-08-27 16:28:25.404] [polyfem] [info] h: 5.13044\n",
      "[2019-08-27 16:28:25.404] [polyfem] [info] n bases: 2619\n",
      "[2019-08-27 16:28:25.404] [polyfem] [info] n pressure bases: 0\n",
      "[2019-08-27 16:28:25.404] [polyfem] [info] Assigning rhs...\n",
      "[2019-08-27 16:28:25.411] [polyfem] [info]  took 0.00741371s\n",
      "[2019-08-27 16:28:25.412] [polyfem] [info] Assembling stiffness mat...\n",
      "[2019-08-27 16:28:25.591] [polyfem] [info]  took 0.179862s\n",
      "[2019-08-27 16:28:25.591] [polyfem] [info] sparsity: 316129/61732449\n",
      "[2019-08-27 16:28:25.591] [polyfem] [info] Solving LinearElasticity with\n",
      "[2019-08-27 16:28:25.591] [polyfem] [info] Hypre...\n",
      "(128470, 3)\n",
      "(102776, 4)\n",
      "(128470, 3)\n"
     ]
    },
    {
     "data": {
      "application/vnd.jupyter.widget-view+json": {
       "model_id": "7a0ee7de6b1646a2bde33e11d9fac407",
       "version_major": 2,
       "version_minor": 0
      },
      "text/plain": [
       "Renderer(camera=PerspectiveCamera(children=(DirectionalLight(color='white', intensity=0.6, position=(12.581240…"
      ]
     },
     "metadata": {},
     "output_type": "display_data"
    }
   ],
   "source": [
    "settings = pf.Settings()\n",
    "problem = pf.Problem()\n",
    "\n",
    "settings.set_pde(pf.PDEs.LinearElasticity)\n",
    "\n",
    "settings.set_material_params(\"E\", 200)\n",
    "settings.set_material_params(\"nu\", 0.35)\n",
    "\n",
    "\n",
    "problem.set_displacement(2, [0, 0, 0])\n",
    "problem.set_force(3, [0, 50, 0])\n",
    "\n",
    "settings.set_problem(problem)\n",
    "solver_proj.settings(settings)\n",
    "solver_proj.solve()\n",
    "p, t, d = solver_proj.get_sampled_solution()\n",
    "m = np.linalg.norm(d, axis=1)\n",
    "\n",
    "print(p.shape)\n",
    "print(t.shape)\n",
    "print(d.shape)\n",
    "mp.plot(p+d, t, m)"
   ]
  },
  {
   "cell_type": "code",
   "execution_count": 28,
   "metadata": {},
   "outputs": [
    {
     "name": "stdout",
     "output_type": "stream",
     "text": [
      "[2019-08-27 16:28:32.484] [polyfem] [info] simplex_count: \t12847\n",
      "[2019-08-27 16:28:32.484] [polyfem] [info] regular_count: \t0\n",
      "[2019-08-27 16:28:32.484] [polyfem] [info] regular_boundary_count: \t0\n",
      "[2019-08-27 16:28:32.484] [polyfem] [info] simple_singular_count: \t0\n",
      "[2019-08-27 16:28:32.484] [polyfem] [info] multi_singular_count: \t0\n",
      "[2019-08-27 16:28:32.484] [polyfem] [info] boundary_count: \t0\n",
      "[2019-08-27 16:28:32.484] [polyfem] [info] multi_singular_boundary_count: \t0\n",
      "[2019-08-27 16:28:32.484] [polyfem] [info] non_regular_count: \t0\n",
      "[2019-08-27 16:28:32.484] [polyfem] [info] non_regular_boundary_count: \t0\n",
      "[2019-08-27 16:28:32.484] [polyfem] [info] undefined_count: \t0\n",
      "[2019-08-27 16:28:32.484] [polyfem] [info] total count:\t 12847\n",
      "[2019-08-27 16:28:32.484] [polyfem] [info] Building isoparametric basis...\n",
      "[2019-08-27 16:28:32.558] [polyfem] [info] Computing polygonal basis...\n",
      "[2019-08-27 16:28:32.558] [polyfem] [info]  took 2.164e-05s\n",
      "[2019-08-27 16:28:32.560] [polyfem] [info] hmin: 0.959207\n",
      "[2019-08-27 16:28:32.560] [polyfem] [info] hmax: 5.13044\n",
      "[2019-08-27 16:28:32.560] [polyfem] [info] havg: 2.30492\n",
      "[2019-08-27 16:28:32.560] [polyfem] [info]  took 0.0735029s\n",
      "[2019-08-27 16:28:32.560] [polyfem] [info] flipped elements 0\n",
      "[2019-08-27 16:28:32.560] [polyfem] [info] h: 5.13044\n",
      "[2019-08-27 16:28:32.560] [polyfem] [info] n bases: 2619\n",
      "[2019-08-27 16:28:32.560] [polyfem] [info] n pressure bases: 0\n",
      "[2019-08-27 16:28:32.560] [polyfem] [info] Assigning rhs...\n",
      "[2019-08-27 16:28:32.566] [polyfem] [info]  took 0.00613353s\n",
      "[2019-08-27 16:28:32.567] [polyfem] [info] Assembling stiffness mat...\n",
      "[2019-08-27 16:28:32.725] [polyfem] [info]  took 0.158857s\n",
      "[2019-08-27 16:28:32.725] [polyfem] [info] sparsity: 316129/61732449\n",
      "[2019-08-27 16:28:32.725] [polyfem] [info] Solving LinearElasticity with\n",
      "[2019-08-27 16:28:32.725] [polyfem] [info] Hypre...\n"
     ]
    },
    {
     "data": {
      "application/vnd.jupyter.widget-view+json": {
       "model_id": "62ae7836624f4902aeb3ad6cc457f44d",
       "version_major": 2,
       "version_minor": 0
      },
      "text/plain": [
       "Renderer(camera=PerspectiveCamera(children=(DirectionalLight(color='white', intensity=0.6, position=(12.504153…"
      ]
     },
     "metadata": {},
     "output_type": "display_data"
    }
   ],
   "source": [
    "solver_cut.settings(settings)\n",
    "solver_cut.solve()\n",
    "p1, t1, d1 = solver_cut.get_sampled_solution()\n",
    "m1 = np.linalg.norm(d1, axis=1)\n",
    "\n",
    "\n",
    "mp.plot(p1+d1, t1, m1)"
   ]
  },
  {
   "cell_type": "code",
   "execution_count": 29,
   "metadata": {},
   "outputs": [
    {
     "name": "stdout",
     "output_type": "stream",
     "text": [
      "[2019-08-27 16:28:37.979] [polyfem] [info] simplex_count: \t13753\n",
      "[2019-08-27 16:28:37.979] [polyfem] [info] regular_count: \t0\n",
      "[2019-08-27 16:28:37.979] [polyfem] [info] regular_boundary_count: \t0\n",
      "[2019-08-27 16:28:37.979] [polyfem] [info] simple_singular_count: \t0\n",
      "[2019-08-27 16:28:37.979] [polyfem] [info] multi_singular_count: \t0\n",
      "[2019-08-27 16:28:37.979] [polyfem] [info] boundary_count: \t0\n",
      "[2019-08-27 16:28:37.979] [polyfem] [info] multi_singular_boundary_count: \t0\n",
      "[2019-08-27 16:28:37.979] [polyfem] [info] non_regular_count: \t0\n",
      "[2019-08-27 16:28:37.979] [polyfem] [info] non_regular_boundary_count: \t0\n",
      "[2019-08-27 16:28:37.979] [polyfem] [info] undefined_count: \t0\n",
      "[2019-08-27 16:28:37.979] [polyfem] [info] total count:\t 13753\n",
      "[2019-08-27 16:28:37.979] [polyfem] [info] Building isoparametric basis...\n",
      "[2019-08-27 16:28:38.053] [polyfem] [info] Computing polygonal basis...\n",
      "[2019-08-27 16:28:38.053] [polyfem] [info]  took 1.3461e-05s\n",
      "[2019-08-27 16:28:38.054] [polyfem] [info] hmin: 0.888375\n",
      "[2019-08-27 16:28:38.055] [polyfem] [info] hmax: 4.10672\n",
      "[2019-08-27 16:28:38.055] [polyfem] [info] havg: 2.2331\n",
      "[2019-08-27 16:28:38.055] [polyfem] [info]  took 0.0735852s\n",
      "[2019-08-27 16:28:38.055] [polyfem] [info] flipped elements 0\n",
      "[2019-08-27 16:28:38.055] [polyfem] [info] h: 4.10672\n",
      "[2019-08-27 16:28:38.055] [polyfem] [info] n bases: 2838\n",
      "[2019-08-27 16:28:38.055] [polyfem] [info] n pressure bases: 0\n",
      "[2019-08-27 16:28:38.055] [polyfem] [info] Assigning rhs...\n",
      "[2019-08-27 16:28:38.063] [polyfem] [info]  took 0.00746633s\n",
      "[2019-08-27 16:28:38.063] [polyfem] [info] Assembling stiffness mat...\n",
      "[2019-08-27 16:28:38.248] [polyfem] [info]  took 0.185136s\n",
      "[2019-08-27 16:28:38.248] [polyfem] [info] sparsity: 340802/72488196\n",
      "[2019-08-27 16:28:38.248] [polyfem] [info] Solving LinearElasticity with\n",
      "[2019-08-27 16:28:38.248] [polyfem] [info] Hypre...\n"
     ]
    },
    {
     "data": {
      "application/vnd.jupyter.widget-view+json": {
       "model_id": "56fdc13b109248c3a502ff5578be3e47",
       "version_major": 2,
       "version_minor": 0
      },
      "text/plain": [
       "Renderer(camera=PerspectiveCamera(children=(DirectionalLight(color='white', intensity=0.6, position=(12.357767…"
      ]
     },
     "metadata": {},
     "output_type": "display_data"
    }
   ],
   "source": [
    "solver_ini.settings(settings)\n",
    "solver_ini.solve()\n",
    "p2, t2, d2 = solver_ini.get_sampled_solution()\n",
    "m2 = np.linalg.norm(d2, axis=1)\n",
    "\n",
    "\n",
    "mp.plot(p2+d2, t2, m2)"
   ]
  },
  {
   "cell_type": "code",
   "execution_count": 30,
   "metadata": {},
   "outputs": [
    {
     "name": "stdout",
     "output_type": "stream",
     "text": [
      "0.5963635287641343\n",
      "3.4518692027727864\n"
     ]
    }
   ],
   "source": [
    "v_1, f_1 = extract_surface(p1+d1, t1)\n",
    "igl.write_obj(\"1.obj\", v_1, f_1)\n",
    "v_1, f_1 = igl.read_triangle_mesh(\"1.obj\")\n",
    "v_2, f_2 = extract_surface(p2+d2, t2)\n",
    "igl.write_obj(\"2.obj\", v_2, f_2)\n",
    "v_2, f_2 = igl.read_triangle_mesh(\"2.obj\")\n",
    "v_, f_ = extract_surface(p+d, t)\n",
    "igl.write_obj(\"_.obj\", v_, f_)\n",
    "v_, f_ = igl.read_triangle_mesh(\"_.obj\")\n",
    "print(igl.hausdorff(v_1, f_1, v_2, f_2))\n",
    "print(igl.hausdorff(v_, f_, v_2, f_2))"
   ]
  },
  {
   "cell_type": "code",
   "execution_count": 20,
   "metadata": {},
   "outputs": [],
   "source": [
    "?igl.boundary_facets"
   ]
  },
  {
   "cell_type": "code",
   "execution_count": null,
   "metadata": {},
   "outputs": [],
   "source": []
  }
 ],
 "metadata": {
  "kernelspec": {
   "display_name": "Python 3",
   "language": "python",
   "name": "python3"
  },
  "language_info": {
   "codemirror_mode": {
    "name": "ipython",
    "version": 3
   },
   "file_extension": ".py",
   "mimetype": "text/x-python",
   "name": "python",
   "nbconvert_exporter": "python",
   "pygments_lexer": "ipython3",
   "version": "3.7.3"
  }
 },
 "nbformat": 4,
 "nbformat_minor": 2
}
