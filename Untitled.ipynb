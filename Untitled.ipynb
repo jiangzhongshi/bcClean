{
 "cells": [
  {
   "cell_type": "code",
   "execution_count": 1,
   "metadata": {},
   "outputs": [],
   "source": [
    "import pybcclean as pbc\n",
    "import numpy as np\n",
    "import math\n",
    "import igl\n",
    "import meshplot as mp\n",
    "import wildmeshing as wm\n",
    "import polyfempy as pf"
   ]
  },
  {
   "cell_type": "code",
   "execution_count": 77,
   "metadata": {},
   "outputs": [
    {
     "data": {
      "application/vnd.jupyter.widget-view+json": {
       "model_id": "ba808209f1534e1c8abe2615a6d5326c",
       "version_major": 2,
       "version_minor": 0
      },
      "text/plain": [
       "Renderer(camera=PerspectiveCamera(children=(DirectionalLight(color='white', intensity=0.6, position=(0.0, 0.0,…"
      ]
     },
     "metadata": {},
     "output_type": "display_data"
    }
   ],
   "source": [
    "v_bad, f_bad=igl.read_triangle_mesh(\"data/2/00000006_d4fe04f0f5f84b52bd4f10e4_trimesh_001.obj\")\n",
    "fl_bad = igl.read_dmat(\"data/2/feat.dmat\")\n",
    "mp.plot(v_bad,f_bad, fl_bad, shading={\"wireframe\":True})"
   ]
  },
  {
   "cell_type": "code",
   "execution_count": 78,
   "metadata": {},
   "outputs": [
    {
     "data": {
      "application/vnd.jupyter.widget-view+json": {
       "model_id": "cf9147d1724340ebaa0b130550e7c1f6",
       "version_major": 2,
       "version_minor": 0
      },
      "text/plain": [
       "Renderer(camera=PerspectiveCamera(children=(DirectionalLight(color='white', intensity=0.6, position=(0.0, 0.0,…"
      ]
     },
     "metadata": {},
     "output_type": "display_data"
    }
   ],
   "source": [
    "v_good, f_good = igl.read_triangle_mesh(\"data/2/good_mesh.obj\")\n",
    "prob_mat, fl_good = pbc.project_face_labels(v_bad,f_bad.astype('int32'), fl_bad.astype('int32'),v_good,f_good.astype('int32'))\n",
    "mp.plot(v_good, f_good,fl_good[:,0], shading={\"wireframe\": True})"
   ]
  },
  {
   "cell_type": "code",
   "execution_count": 74,
   "metadata": {},
   "outputs": [
    {
     "data": {
      "application/vnd.jupyter.widget-view+json": {
       "model_id": "da06400c76f44fe3a1108b72c8aed757",
       "version_major": 2,
       "version_minor": 0
      },
      "text/plain": [
       "Renderer(camera=PerspectiveCamera(children=(DirectionalLight(color='white', intensity=0.6, position=(0.0, 0.0,…"
      ]
     },
     "metadata": {},
     "output_type": "display_data"
    }
   ],
   "source": [
    "fl_good_cut =pbc.refine_labels(v_good,f_good.astype('int32'),prob_mat,fl_good.astype('int32'),1)\n",
    "mp.plot(v_good, f_good, fl_good_cut[:,0], shading={\"wireframe\":True})"
   ]
  },
  {
   "cell_type": "code",
   "execution_count": null,
   "metadata": {},
   "outputs": [],
   "source": []
  }
 ],
 "metadata": {
  "kernelspec": {
   "display_name": "Python 3",
   "language": "python",
   "name": "python3"
  },
  "language_info": {
   "codemirror_mode": {
    "name": "ipython",
    "version": 3
   },
   "file_extension": ".py",
   "mimetype": "text/x-python",
   "name": "python",
   "nbconvert_exporter": "python",
   "pygments_lexer": "ipython3",
   "version": "3.7.3"
  }
 },
 "nbformat": 4,
 "nbformat_minor": 4
}
