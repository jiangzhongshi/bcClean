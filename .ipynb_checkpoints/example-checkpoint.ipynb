{
 "cells": [
  {
   "cell_type": "code",
   "execution_count": 1,
   "metadata": {},
   "outputs": [],
   "source": [
    "import pybcclean as pbc\n",
    "import numpy as np\n",
    "import igl\n",
    "import wildmeshing as wm\n",
    "import meshplot as mp\n",
    "import polyfempy as pf\n",
    "from scipy.spatial import KDTree\n",
    "\n",
    "def barycenters(v, f):\n",
    "    s = np.zeros((len(f),3),dtype='float64')\n",
    "    for i, r in enumerate(s):\n",
    "        s[i] = (v[f[i][0]]+v[f[i][1]]+v[f[i][2]])/3\n",
    "    return s"
   ]
  },
  {
   "cell_type": "code",
   "execution_count": 2,
   "metadata": {},
   "outputs": [
    {
     "data": {
      "application/vnd.jupyter.widget-view+json": {
       "model_id": "0c6d7e61e9d44758a63f5f6bb627adf0",
       "version_major": 2,
       "version_minor": 0
      },
      "text/plain": [
       "Renderer(camera=PerspectiveCamera(children=(DirectionalLight(color='white', intensity=0.6, position=(0.0, 0.0,…"
      ]
     },
     "metadata": {},
     "output_type": "display_data"
    }
   ],
   "source": [
    "v_bad, f_bad=igl.read_triangle_mesh(\"data/2/00000006_d4fe04f0f5f84b52bd4f10e4_trimesh_001.obj\")\n",
    "fl_bad = igl.read_dmat(\"data/2/feat.dmat\")\n",
    "mp.plot(v_bad,f_bad, fl_bad, shading={\"wireframe\":True})"
   ]
  },
  {
   "cell_type": "code",
   "execution_count": 3,
   "metadata": {},
   "outputs": [],
   "source": [
    "v_good, f_good = igl.read_triangle_mesh(\"out.mesh__sf.obj\")\n",
    "prob_mat, fl_good_proj = pbc.project_face_labels(v_bad,f_bad.astype('int32'), fl_bad.astype('int32'),v_good,f_good.astype('int32'))\n",
    "# fl_good_cut = pbc.refine_labels(v_good, f_good.astype('int32'), prob_mat, fl_good_proj.astype('int32'),1)\n",
    "# mp.plot(v_good, f_good, fl_good_proj[:,0], shading={\"wireframe\": True})\n",
    "# mp.plot(v_good, f_good, fl_good_cut[:,0], shading={\"wireframe\":True})"
   ]
  },
  {
   "cell_type": "code",
   "execution_count": null,
   "metadata": {},
   "outputs": [],
   "source": [
    "print(len(prob_mat))"
   ]
  },
  {
   "cell_type": "code",
   "execution_count": 75,
   "metadata": {},
   "outputs": [
    {
     "name": "stdout",
     "output_type": "stream",
     "text": [
      "[2019-08-23 16:04:33.046] [polyfem] [info] Loading mesh...\n",
      "[2019-08-23 16:04:33.046] [geogram] [info] Loading file out.mesh...\n",
      "[2019-08-23 16:04:33.093] [geogram] [info] (FP64) nb_v:1772 nb_e:0 nb_f:2034 nb_b:0 tri:1 dim:3\n",
      "[2019-08-23 16:04:33.093] [geogram] [info]  nb_tets:7048\n",
      "[2019-08-23 16:04:33.093] [geogram] [info] Attributes on vertices: point[3]\n",
      "[2019-08-23 16:04:33.179] [polyfem] [info] mesh bb min [-2.38125, -2.74963, -2.77556e-17], max [2.38125, 2.74963, 1.5875]\n",
      "[2019-08-23 16:04:33.179] [polyfem] [info]  took 0.13344s\n"
     ]
    },
    {
     "data": {
      "application/vnd.jupyter.widget-view+json": {
       "model_id": "be16dc94260943f2b49e7bec36480d7a",
       "version_major": 2,
       "version_minor": 0
      },
      "text/plain": [
       "Renderer(camera=PerspectiveCamera(children=(DirectionalLight(color='white', intensity=0.6, position=(0.0, 0.0,…"
      ]
     },
     "metadata": {},
     "output_type": "display_data"
    },
    {
     "name": "stdout",
     "output_type": "stream",
     "text": [
      "0.0\n"
     ]
    }
   ],
   "source": [
    "bary_centers = barycenters(v_good, f_good)\n",
    "kdt = KDTree(bary_centers)\n",
    "def sideset_proj(p):\n",
    "    return fl_good_proj[kdt.query(p)[1]][0]+1\n",
    "def sideset_cut(p):\n",
    "    return fl_good_cut[kdt.query(p)[1]][0] + 1\n",
    "solver_cut = pf.Solver()\n",
    "solver_cut.load_mesh_from_path(\"out.mesh\")\n",
    "solver_cut.set_boundary_side_set_from_bary(sideset_cut)\n",
    "p_cut, t_cut, s_cut = solver.get_boundary_sidesets()\n",
    "mp.plot(p_cut, t_cut, s_cut, shading={\"wireframe\":True})\n",
    "print((s_cut-s_proj).max())"
   ]
  },
  {
   "cell_type": "code",
   "execution_count": null,
   "metadata": {},
   "outputs": [],
   "source": []
  },
  {
   "cell_type": "code",
   "execution_count": 46,
   "metadata": {},
   "outputs": [
    {
     "data": {
      "application/vnd.jupyter.widget-view+json": {
       "model_id": "8a078e29378546b7a730e83b60d8a870",
       "version_major": 2,
       "version_minor": 0
      },
      "text/plain": [
       "Renderer(camera=PerspectiveCamera(children=(DirectionalLight(color='white', intensity=0.6, position=(0.0, 0.0,…"
      ]
     },
     "metadata": {},
     "output_type": "display_data"
    },
    {
     "data": {
      "application/vnd.jupyter.widget-view+json": {
       "model_id": "855dfb4d65164687ba8be7311fc18d1f",
       "version_major": 2,
       "version_minor": 0
      },
      "text/plain": [
       "Renderer(camera=PerspectiveCamera(children=(DirectionalLight(color='white', intensity=0.6, position=(0.0, 0.0,…"
      ]
     },
     "metadata": {},
     "output_type": "display_data"
    }
   ],
   "source": [
    "v_1, f_1 = igl.upsample(v_good,f_good,1)\n",
    "prob_mat1, fl_good1 = pbc.project_face_labels(v_bad,f_bad.astype('int32'), fl_bad.astype('int32'),v_1,f_1.astype('int32'))\n",
    "fl_good_cut1=pbc.refine_labels(v_1,f_1.astype('int32'),prob_mat1,fl_good1.astype('int32'),1)\n",
    "mp.plot(v_1, f_1,fl_good1[:,0], shading={\"wireframe\": True})\n",
    "mp.plot(v_1,f_1, fl_good_cut1[:,0], shading={\"wireframe\":True})"
   ]
  },
  {
   "cell_type": "code",
   "execution_count": 74,
   "metadata": {},
   "outputs": [
    {
     "name": "stdout",
     "output_type": "stream",
     "text": [
      "[2019-08-23 16:02:45.651] [polyfem] [info] Loading mesh...\n",
      "[2019-08-23 16:02:45.651] [geogram] [info] Loading file out.mesh...\n",
      "[2019-08-23 16:02:45.675] [geogram] [info] (FP64) nb_v:1772 nb_e:0 nb_f:2034 nb_b:0 tri:1 dim:3\n",
      "[2019-08-23 16:02:45.675] [geogram] [info]  nb_tets:7048\n",
      "[2019-08-23 16:02:45.675] [geogram] [info] Attributes on vertices: point[3]\n",
      "[2019-08-23 16:02:45.767] [polyfem] [info] mesh bb min [-2.38125, -2.74963, -2.77556e-17], max [2.38125, 2.74963, 1.5875]\n",
      "[2019-08-23 16:02:45.767] [polyfem] [info]  took 0.1166s\n"
     ]
    },
    {
     "data": {
      "application/vnd.jupyter.widget-view+json": {
       "model_id": "6e3b22bac7684992a516f16a0f89bbb3",
       "version_major": 2,
       "version_minor": 0
      },
      "text/plain": [
       "Renderer(camera=PerspectiveCamera(children=(DirectionalLight(color='white', intensity=0.6, position=(0.0, 0.0,…"
      ]
     },
     "metadata": {},
     "output_type": "display_data"
    },
    {
     "name": "stdout",
     "output_type": "stream",
     "text": [
      "[2019-08-23 16:02:46.144] [polyfem] [info] Loading mesh...\n",
      "[2019-08-23 16:02:46.144] [geogram] [info] Loading file out.mesh...\n",
      "[2019-08-23 16:02:46.171] [geogram] [info] (FP64) nb_v:1772 nb_e:0 nb_f:2034 nb_b:0 tri:1 dim:3\n",
      "[2019-08-23 16:02:46.171] [geogram] [info]  nb_tets:7048\n",
      "[2019-08-23 16:02:46.171] [geogram] [info] Attributes on vertices: point[3]\n",
      "[2019-08-23 16:02:46.290] [polyfem] [info] mesh bb min [-2.38125, -2.74963, -2.77556e-17], max [2.38125, 2.74963, 1.5875]\n",
      "[2019-08-23 16:02:46.291] [polyfem] [info]  took 0.146398s\n"
     ]
    },
    {
     "data": {
      "application/vnd.jupyter.widget-view+json": {
       "model_id": "905dc62f2e5a424f8a146141d490043c",
       "version_major": 2,
       "version_minor": 0
      },
      "text/plain": [
       "Renderer(camera=PerspectiveCamera(children=(DirectionalLight(color='white', intensity=0.6, position=(0.0, 0.0,…"
      ]
     },
     "metadata": {},
     "output_type": "display_data"
    },
    {
     "name": "stdout",
     "output_type": "stream",
     "text": [
      "0.0\n"
     ]
    }
   ],
   "source": []
  },
  {
   "cell_type": "code",
   "execution_count": 11,
   "metadata": {},
   "outputs": [],
   "source": [
    "wm.tetrahedralize(\"data/2/00000006_d4fe04f0f5f84b52bd4f10e4_trimesh_001.obj\", \"out.mesh\", stop_quality=5)"
   ]
  },
  {
   "cell_type": "code",
   "execution_count": 4,
   "metadata": {},
   "outputs": [
    {
     "name": "stdout",
     "output_type": "stream",
     "text": [
      "[2019-08-23 14:26:05.645] [polyfem] [info] Loading mesh...\n",
      "[2019-08-23 14:26:05.645] [geogram] [info] Loading file out.mesh...\n",
      "[2019-08-23 14:26:05.713] [geogram] [info] (FP64) nb_v:1772 nb_e:0 nb_f:2034 nb_b:0 tri:1 dim:3\n",
      "[2019-08-23 14:26:05.713] [geogram] [info]  nb_tets:7048\n",
      "[2019-08-23 14:26:05.713] [geogram] [info] Attributes on vertices: point[3]\n",
      "[2019-08-23 14:26:05.883] [polyfem] [info] mesh bb min [-2.38125, -2.74963, -2.77556e-17], max [2.38125, 2.74963, 1.5875]\n",
      "[2019-08-23 14:26:05.883] [polyfem] [info]  took 0.238138s\n",
      "(8136, 3)\n",
      "(6102, 3)\n",
      "(8136, 1)\n"
     ]
    }
   ],
   "source": [
    "solver = pf.Solver()\n",
    "solver.load_mesh_from_path(\"out.mesh\")\n",
    "\n",
    "def sideset(p):\n",
    "    return 1\n",
    "solver.set_boundary_side_set_from_bary(sideset)\n",
    "ps, ts, s = solver.get_boundary_sidesets()\n",
    "print(ps.shape)\n",
    "print(ts.shape)\n",
    "print(s.shape)\n",
    "# prob_mat, fl_good = pbc.project_face_labels(v_bad,f_bad.astype('int32'), fl_bad.astype('int32'),ps,ts.astype('int32'))\n",
    "# mp.plot(ps, ts,fl_good[:,0], shading={\"wireframe\": True})\n",
    "\n",
    "# col = np.zeros_like(s); col[s==2] = 2; col[s==3] = 3\n",
    "# mp.plot(ps, ts, col)"
   ]
  },
  {
   "cell_type": "code",
   "execution_count": 9,
   "metadata": {},
   "outputs": [
    {
     "data": {
      "application/vnd.jupyter.widget-view+json": {
       "model_id": "9bcd9c57821b48e1ab48d3d146cb6bc8",
       "version_major": 2,
       "version_minor": 0
      },
      "text/plain": [
       "Renderer(camera=PerspectiveCamera(children=(DirectionalLight(color='white', intensity=0.6, position=(0.0, 0.0,…"
      ]
     },
     "metadata": {},
     "output_type": "display_data"
    }
   ],
   "source": [
    "fl_good_cut =pbc.refine_labels(ps,ts.astype('int32'),prob_mat,fl_good.astype('int32'),1)\n",
    "mp.plot(ps, ts, fl_good_cut[:,0], shading={\"wireframe\":True})"
   ]
  },
  {
   "cell_type": "code",
   "execution_count": 45,
   "metadata": {},
   "outputs": [],
   "source": [
    "settings = pf.Settings()\n",
    "problem = pf.Problem()\n",
    "\n",
    "settings.set_pde(pf.PDEs.LinearElasticity)\n",
    "\n",
    "settings.set_material_params(\"E\", 200)\n",
    "settings.set_material_params(\"nu\", 0.35)\n",
    "\n",
    "\n",
    "problem.set_displacement(2, [0, 0, 0])\n",
    "problem.set_force(3, [0, 5, 0])\n",
    "\n",
    "settings.set_problem(problem)"
   ]
  },
  {
   "cell_type": "code",
   "execution_count": 41,
   "metadata": {},
   "outputs": [
    {
     "name": "stdout",
     "output_type": "stream",
     "text": [
      "[2019-08-22 17:55:38.954] [polyfem] [info] simplex_count: \t7540\n",
      "[2019-08-22 17:55:38.954] [polyfem] [info] regular_count: \t0\n",
      "[2019-08-22 17:55:38.954] [polyfem] [info] regular_boundary_count: \t0\n",
      "[2019-08-22 17:55:38.954] [polyfem] [info] simple_singular_count: \t0\n",
      "[2019-08-22 17:55:38.954] [polyfem] [info] multi_singular_count: \t0\n",
      "[2019-08-22 17:55:38.954] [polyfem] [info] boundary_count: \t0\n",
      "[2019-08-22 17:55:38.954] [polyfem] [info] multi_singular_boundary_count: \t0\n",
      "[2019-08-22 17:55:38.954] [polyfem] [info] non_regular_count: \t0\n",
      "[2019-08-22 17:55:38.954] [polyfem] [info] non_regular_boundary_count: \t0\n",
      "[2019-08-22 17:55:38.954] [polyfem] [info] undefined_count: \t0\n",
      "[2019-08-22 17:55:38.954] [polyfem] [info] total count:\t 7540\n",
      "[2019-08-22 17:55:38.954] [polyfem] [info] Building isoparametric basis...\n",
      "[2019-08-22 17:55:39.040] [polyfem] [info] Computing polygonal basis...\n",
      "[2019-08-22 17:55:39.040] [polyfem] [info]  took 3.4534e-05s\n",
      "[2019-08-22 17:55:39.044] [polyfem] [info] hmin: 0.0241186\n",
      "[2019-08-22 17:55:39.044] [polyfem] [info] hmax: 0.629083\n",
      "[2019-08-22 17:55:39.044] [polyfem] [info] havg: 0.296543\n",
      "[2019-08-22 17:55:39.044] [polyfem] [info]  took 0.0855987s\n",
      "[2019-08-22 17:55:39.044] [polyfem] [info] flipped elements 0\n",
      "[2019-08-22 17:55:39.044] [polyfem] [info] h: 0.629083\n",
      "[2019-08-22 17:55:39.044] [polyfem] [info] n bases: 1861\n",
      "[2019-08-22 17:55:39.044] [polyfem] [info] n pressure bases: 0\n",
      "[2019-08-22 17:55:39.044] [polyfem] [info] Assigning rhs...\n",
      "[2019-08-22 17:55:39.053] [polyfem] [info]  took 0.00921461s\n",
      "[2019-08-22 17:55:39.053] [polyfem] [info] Assembling stiffness mat...\n",
      "[2019-08-22 17:55:39.174] [polyfem] [info]  took 0.120907s\n",
      "[2019-08-22 17:55:39.174] [polyfem] [info] sparsity: 204161/31169889\n",
      "[2019-08-22 17:55:39.174] [polyfem] [info] Solving LinearElasticity with\n",
      "[2019-08-22 17:55:39.174] [polyfem] [info] Hypre...\n",
      "(75400, 3)\n",
      "(60320, 4)\n",
      "(75400, 3)\n"
     ]
    },
    {
     "data": {
      "application/vnd.jupyter.widget-view+json": {
       "model_id": "c71664875ac24d5aa11b0cff75c6b565",
       "version_major": 2,
       "version_minor": 0
      },
      "text/plain": [
       "Renderer(camera=PerspectiveCamera(children=(DirectionalLight(color='white', intensity=0.6, position=(-0.002068…"
      ]
     },
     "metadata": {},
     "output_type": "display_data"
    }
   ],
   "source": [
    "solver.settings(settings)\n",
    "solver.solve()\n",
    "p, t, d = solver.get_sampled_solution()\n",
    "m = np.linalg.norm(d, axis=1)\n",
    "\n",
    "print(p.shape)\n",
    "print(t.shape)\n",
    "print(d.shape)\n",
    "mp.plot(p+d, t, m)"
   ]
  },
  {
   "cell_type": "code",
   "execution_count": null,
   "metadata": {},
   "outputs": [],
   "source": [
    "igl.read"
   ]
  },
  {
   "cell_type": "code",
   "execution_count": null,
   "metadata": {},
   "outputs": [],
   "source": [
    "wm.tetrahedralizeh"
   ]
  }
 ],
 "metadata": {
  "kernelspec": {
   "display_name": "Python 3",
   "language": "python",
   "name": "python3"
  },
  "language_info": {
   "codemirror_mode": {
    "name": "ipython",
    "version": 3
   },
   "file_extension": ".py",
   "mimetype": "text/x-python",
   "name": "python",
   "nbconvert_exporter": "python",
   "pygments_lexer": "ipython3",
   "version": "3.7.3"
  }
 },
 "nbformat": 4,
 "nbformat_minor": 4
}
